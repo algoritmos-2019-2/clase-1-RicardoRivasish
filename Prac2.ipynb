{
 "cells": [
  {
   "cell_type": "markdown",
   "metadata": {},
   "source": [
    "# Funciones listas y tuplas\n",
    "\n",
    "## Ricardo Eduardo Rivas Roa"
   ]
  },
  {
   "cell_type": "markdown",
   "metadata": {},
   "source": [
    "### Funciones\n",
    "\n",
    "* ¿Por qué son ventajosas las funciones para tener en sus programas?\n",
    "\n",
    "R= Porque a veces hay un código que ya escribiste antes y que sólo quieres llamarlo para no tener que escribir de más.\n",
    "\n",
    "\n",
    "\n",
    "* ¿Cuándo se ejecuta el código en una función: cuando se define la función o cuando se llama a la función?\n",
    "\n",
    "R= Se define la función cuando la escribes y se llama/ejecuta cuando la escribes en tu código. \n",
    "\n",
    "\n",
    "* ¿Qué enunciado crea una función?\n",
    "\n",
    "R= El enunciado es \"def nombre_de_funcion():\"\n",
    "\n",
    "\n",
    "* ¿Cuál es la diferencia entre una función y una llamada de función?\n",
    "\n",
    "R= Una función en sí es el código y la llamada es cusndo quieres que el programa ejecute el código. \n",
    "\n",
    "\n",
    "* ¿Cuántos ámbitos globales hay en un programa de Python? ¿Cuántos ámbitos locales?\n",
    "\n",
    "R= Sólo existe un ambito local y son las declaraciones que pertenecen al código principal. Los ambitos locales puden ser infinitos dependiendo de cuántas declaraciones sean definidas dentro de funciones en su código. \n",
    "\n",
    "\n",
    "* ¿Qué sucede con las variables en un ámbito local cuando se devuelve la llamada a la función?\n",
    "\n",
    "R= Las variables sólo van a actuar de la forma en que las definiste en tu función, no más allá de ésta. \n",
    "\n",
    "\n",
    "* ¿Qué es un valor de retorno? ¿Puede un valor de retorno ser parte de una expresión?\n",
    "\n",
    "R= Un valor de retorno basicamente es la expresión \"return\" y se le asigna un valor dentro de una función que hayamos escrito en el código. Los valores de retorno sí pueden ser parte de una expresión.\n",
    "\n",
    "\n",
    "\n",
    "* Si una función no tiene una declaración de retorno, ¿cuál es el valor de retorno de una llamada a esa función?. \n",
    "\n",
    "R= En el caso de que no declaremos el retorno la función no regresará nada, sólo nos regresará la palabra \"None\".\n",
    "\n",
    "* ¿Cómo puede forzar una variable en una función para referirse a la variable global?\n",
    "\n",
    "R= Definiendo una variable global y otorgándole un valor, se puede llamar a la misma variable dentro de una función\n",
    "\n",
    "\n",
    "* ¿Cuál es el tipo de datos de None?\n",
    "\n",
    "R= Nonetype\n",
    "\n",
    "\n",
    "\n",
    "* ¿Qué hace la declaración import random?\n",
    "\n",
    "R= Importa la ibrería \"random\" a nuestro programa. \n",
    "\n",
    "\n",
    "* Si tuviera una función llamada randint() en un módulo llamado random, ¿cómo lo llamaría después de importar random? \n",
    "\n",
    "R= Escribiendo la ruta al importarlo.\n",
    "\n",
    "Por ejemplo: \n",
    "\n",
    "\"import random\n",
    "random.path.append('C:\\python\\modulos')\""
   ]
  },
  {
   "cell_type": "markdown",
   "metadata": {},
   "source": [
    "### Lista y tuplas\n",
    "* ¿Qué es []?\n",
    "\n",
    "R= Es una lista.\n",
    "\n",
    "\n",
    "* ¿Cómo asignaría el valor \"hola\" como el tercer valor en una lista almacenada? en una variable llamada spam? (Supongamos que el \"spam\" contiene [2, 4, 6, 8, 10].) Para las siguientes tres preguntas, digamos que spam contiene la lista [2, 4, 6, 8, 10].\n",
    "\n",
    "R= spam.insert(2, \"Hola\")\n",
    "\n",
    "\n",
    "* ¿Qué evalúa spam[int ('3' * 2) / 11]?\n",
    "\n",
    "R= El interpréte lo marca como error. Es probable que la pregunta se refiera a spam[int(int('3' * 2) // 11)] lo cuál está evaluando el tercer elemento de nuestra lista. Recordándo siempre que la cuenta de elementos se empieza siempre desde 0.\n",
    "\n",
    "\n",
    "* ¿Qué evalúa spam[-1]?\n",
    "\n",
    "R= El último elemento de la lista spam, los números de índices negativos siempre comienzan desde el final. \n",
    "\n",
    "\n",
    "* ¿Qué evalúa el spam[: 2]?\n",
    "\n",
    "R= Los primeros dos elementos de la lista spam. \n",
    "\n",
    "\n",
    "Para las siguientes tres preguntas, digamos que \"bacon\" contiene la lista [3.14, 'cat', 11, 'cat', True].\n",
    "\n",
    "\n",
    "* ¿Qué evalúa bacon.index('cat')?\n",
    "\n",
    "R= Con este método le estamos pidiendo al intérprete que nos diga que número de índice es el elemento 'cat' de la lista bacon. \n",
    "\n",
    "\n",
    "* ¿Qué evalúa bacon.append(99)?\n",
    "\n",
    "R= Agrega el valor 99 al final de la lista bacon. \n",
    "\n",
    "\n",
    "* ¿Qué hace bacon.remove('cat')?\n",
    "\n",
    "R= Borra el valor 'cat' de la lista bacon, en este caso, cómo existen dos valores llamados 'cat', el metodo `remove` elimina el primer valor que encuentre con ese nombre comenzando a contar desde el valor 0.\n",
    "\n",
    "\n",
    "* ¿Cuáles son los operadores para la concatenación de listas y la replicación de listas?\n",
    "\n",
    "R= El operador para la concatenación de listas es +, el operador para la replicación es *. \n",
    "\n",
    "\n",
    "* ¿Cuál es la diferencia entre los métodos de lista append() e insert()?\n",
    "\n",
    "R= append() agrega valores a la lista poniéndolos hasta el final, mientras que  insert() agrega valores a la lista en dónde tú decidas.\n",
    "\n",
    "* ¿Cuál es la diferencia entre listas y tuplas?\n",
    "\n",
    "R= Las listas son mutables, de modo que podemos agregar, quitar o cambiar valores, mientras que las tuplas no pueden ser mofificadas.\n",
    "Además se expresan diferente. Las listas se expresan como ``[]``, y las tuplas se encierran dentro de paréntesis ()."
   ]
  },
  {
   "cell_type": "markdown",
   "metadata": {},
   "source": [
    "### Proyecto Práctico \n",
    "\n",
    "Códifique las siguiente funciones:"
   ]
  },
  {
   "cell_type": "markdown",
   "metadata": {},
   "source": [
    "* ```testPrime()``` que verifique si un número es primo.\n",
    "* ```prime()``` que genere los primos menores o iguales que $n \\in \\mathbb{I}\\mathbb{N}$.\n",
    "* ```twinPrime()``` que regrese una tupla con los primos gemelos  menores o iguales que $n \\in \\mathbb{I}\\mathbb{N}$.\n",
    "* ```theoremArihtmetic()``` que regrese una lista con la descomposión en potencias de primos para cualquier $n \\in \\mathbb{I}\\mathbb{N}$.\n",
    "* ```mcm()``` que regrese el mínimo común multiplo de dos enteros.\n",
    "* ```MCD()``` que regrese el máximo común divisor de dos enteros."
   ]
  },
  {
   "cell_type": "code",
   "execution_count": 17,
   "metadata": {},
   "outputs": [],
   "source": [
    "#test prime\n",
    "\n",
    "def testPrime (num):\n",
    "\n",
    "    if num > 1:   \n",
    "       for i in range(2,num):\n",
    "           if (num % i) == 0:\n",
    "               print(\"Entonces\", num,\"no es primo.\")\n",
    "               print(i,\"x\",num//i,\"=\",num)\n",
    "               break\n",
    "       else:\n",
    "           print(\"Entonces\", num,\"es primo\")"
   ]
  },
  {
   "cell_type": "code",
   "execution_count": 8,
   "metadata": {},
   "outputs": [
    {
     "name": "stdout",
     "output_type": "stream",
     "text": [
      "Entonces 11 es primo\n"
     ]
    }
   ],
   "source": [
    "testPrime(11)"
   ]
  },
  {
   "cell_type": "code",
   "execution_count": 18,
   "metadata": {},
   "outputs": [
    {
     "name": "stdout",
     "output_type": "stream",
     "text": [
      "Entonces 100 no es primo.\n",
      "2 x 50 = 100\n"
     ]
    }
   ],
   "source": [
    "testPrime(100)"
   ]
  },
  {
   "cell_type": "code",
   "execution_count": 19,
   "metadata": {},
   "outputs": [],
   "source": [
    "# Prime\n",
    "\n",
    "def Prime(n):\n",
    "\n",
    "\n",
    "    for num in range(1, n + 1):\n",
    "       if num > 1:\n",
    "           for i in range(2,num):\n",
    "               if (num % i) == 0:\n",
    "                   break\n",
    "           else:\n",
    "               print(num)"
   ]
  },
  {
   "cell_type": "code",
   "execution_count": 5,
   "metadata": {},
   "outputs": [
    {
     "name": "stdout",
     "output_type": "stream",
     "text": [
      "Los números primos menores o iguales a 100 son:\n",
      "2\n",
      "3\n",
      "5\n",
      "7\n",
      "11\n",
      "13\n",
      "17\n",
      "19\n",
      "23\n",
      "29\n",
      "31\n",
      "37\n",
      "41\n",
      "43\n",
      "47\n",
      "53\n",
      "59\n",
      "61\n",
      "67\n",
      "71\n",
      "73\n",
      "79\n",
      "83\n",
      "89\n",
      "97\n"
     ]
    }
   ],
   "source": [
    "Prime(100)"
   ]
  },
  {
   "cell_type": "code",
   "execution_count": 6,
   "metadata": {},
   "outputs": [],
   "source": [
    "# twin prime\n",
    "\n",
    "def prime(n):\n",
    "   for i in range(2, n):\n",
    "      if n % i == 0:\n",
    "         return False\n",
    "   return True\n",
    "\n",
    "def twinPrime(start, end):\n",
    "    print(\"Los pares gemelos de primos son:\")\n",
    "    for i in range(start, end):\n",
    "      j = i + 2\n",
    "      if(prime(i) and prime(j)):\n",
    "         print(\"{:d} y {:d}\".format(i, j))"
   ]
  },
  {
   "cell_type": "code",
   "execution_count": 7,
   "metadata": {},
   "outputs": [
    {
     "name": "stdout",
     "output_type": "stream",
     "text": [
      "Los pares gemelos de primos son:\n",
      "1 y 3\n",
      "3 y 5\n",
      "5 y 7\n",
      "11 y 13\n",
      "17 y 19\n",
      "29 y 31\n",
      "41 y 43\n",
      "59 y 61\n",
      "71 y 73\n"
     ]
    }
   ],
   "source": [
    "twinPrime(1, 100)"
   ]
  },
  {
   "cell_type": "code",
   "execution_count": 28,
   "metadata": {},
   "outputs": [],
   "source": [
    "# TheoremArithmetic\n",
    "\n",
    "def theoremArihtmetic(numero):\n",
    "    while numero <= 1:\n",
    "        numero = int(input(f\"{numero} no es mayor que 1. Inténtelo de nuevo: \"))\n",
    "    copia = numero\n",
    "\n",
    "    print(\"Los factores primos son: \", end=\"\")\n",
    "    i = 2\n",
    "    while copia > i:\n",
    "        while copia % i == 0:\n",
    "            copia = copia // i\n",
    "            print(i, end=\" \")\n",
    "        i += 1\n",
    "    print(copia)"
   ]
  },
  {
   "cell_type": "code",
   "execution_count": 29,
   "metadata": {},
   "outputs": [
    {
     "name": "stdout",
     "output_type": "stream",
     "text": [
      "Los factores primos son: 2 5 23\n"
     ]
    }
   ],
   "source": [
    "theoremArihtmetic(230)"
   ]
  },
  {
   "cell_type": "code",
   "execution_count": 35,
   "metadata": {},
   "outputs": [
    {
     "name": "stdout",
     "output_type": "stream",
     "text": [
      "Ingresa un entero positivo: 10\n",
      "Ingresa otro entero positivo: 100\n",
      "El mínimo común multiplo de 10 y 100 es 100\n"
     ]
    }
   ],
   "source": [
    "# mcm\n",
    "\n",
    "def mcm(x,y):\n",
    "    \n",
    "    if x > y:\n",
    "        \n",
    "        \n",
    "        mayor = x\n",
    "    else:\n",
    "        mayor = y\n",
    "        \n",
    "    while(True):\n",
    "        \n",
    "        if((mayor % x == 0) and (mayor % y == 0)):\n",
    "            \n",
    "            mcm = mayor\n",
    "            break\n",
    "        mayor += 1\n",
    "        \n",
    "    return mcm\n",
    "    \n",
    "a = int(input(\"Ingresa un entero positivo: \"))\n",
    "b = int(input(\"Ingresa otro entero positivo: \"))\n",
    "\n",
    "print(\"El mínimo común multiplo de\", a, \"y\", b, \"es\", mcm(a, b))"
   ]
  },
  {
   "cell_type": "code",
   "execution_count": 36,
   "metadata": {},
   "outputs": [
    {
     "name": "stdout",
     "output_type": "stream",
     "text": [
      "Ingresa un entero positivo: 190\n",
      "Ingresa otro entero positivo: 293\n",
      "El máximo común divisor de 190 y 293 es 10\n"
     ]
    }
   ],
   "source": [
    "# MCD\n",
    "\n",
    "def mcd(x,y):\n",
    "    \n",
    "    resto = 0\n",
    "    while(y > 0):\n",
    "        r = y\n",
    "        y = x % y\n",
    "        x = r\n",
    "    return x\n",
    "    \n",
    "a = int(input(\"Ingresa un entero positivo: \"))\n",
    "b = int(input(\"Ingresa otro entero positivo: \"))\n",
    "\n",
    "print(\"El máximo común divisor de\", a, \"y\", b, \"es\", mcd(n1, n2))"
   ]
  }
 ],
 "metadata": {
  "kernelspec": {
   "display_name": "Python 3",
   "language": "python",
   "name": "python3"
  },
  "language_info": {
   "codemirror_mode": {
    "name": "ipython",
    "version": 3
   },
   "file_extension": ".py",
   "mimetype": "text/x-python",
   "name": "python",
   "nbconvert_exporter": "python",
   "pygments_lexer": "ipython3",
   "version": "3.7.1"
  }
 },
 "nbformat": 4,
 "nbformat_minor": 2
}
